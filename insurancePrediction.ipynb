{
 "cells": [
  {
   "cell_type": "markdown",
   "metadata": {},
   "source": [
    "## Insurance Company Charge Prediction Based on Machine Learning\n",
    "\n",
    "### One of the most evil things anyone can do, but I (Carter Roberts) know how to do it\n"
   ]
  },
  {
   "cell_type": "code",
   "execution_count": 26,
   "metadata": {},
   "outputs": [],
   "source": [
    "# import basic libraries\n",
    "import pandas as pd\n",
    "import numpy as np\n",
    "import matplotlib.pyplot as plt"
   ]
  },
  {
   "cell_type": "code",
   "execution_count": 27,
   "metadata": {},
   "outputs": [
    {
     "data": {
      "text/html": [
       "<div>\n",
       "<style scoped>\n",
       "    .dataframe tbody tr th:only-of-type {\n",
       "        vertical-align: middle;\n",
       "    }\n",
       "\n",
       "    .dataframe tbody tr th {\n",
       "        vertical-align: top;\n",
       "    }\n",
       "\n",
       "    .dataframe thead th {\n",
       "        text-align: right;\n",
       "    }\n",
       "</style>\n",
       "<table border=\"1\" class=\"dataframe\">\n",
       "  <thead>\n",
       "    <tr style=\"text-align: right;\">\n",
       "      <th></th>\n",
       "      <th>age</th>\n",
       "      <th>sex</th>\n",
       "      <th>bmi</th>\n",
       "      <th>children</th>\n",
       "      <th>smoker</th>\n",
       "      <th>region</th>\n",
       "      <th>charges</th>\n",
       "    </tr>\n",
       "  </thead>\n",
       "  <tbody>\n",
       "    <tr>\n",
       "      <th>0</th>\n",
       "      <td>19</td>\n",
       "      <td>female</td>\n",
       "      <td>27.900</td>\n",
       "      <td>0</td>\n",
       "      <td>yes</td>\n",
       "      <td>southwest</td>\n",
       "      <td>16884.92400</td>\n",
       "    </tr>\n",
       "    <tr>\n",
       "      <th>1</th>\n",
       "      <td>18</td>\n",
       "      <td>male</td>\n",
       "      <td>33.770</td>\n",
       "      <td>1</td>\n",
       "      <td>no</td>\n",
       "      <td>southeast</td>\n",
       "      <td>1725.55230</td>\n",
       "    </tr>\n",
       "    <tr>\n",
       "      <th>2</th>\n",
       "      <td>28</td>\n",
       "      <td>male</td>\n",
       "      <td>33.000</td>\n",
       "      <td>3</td>\n",
       "      <td>no</td>\n",
       "      <td>southeast</td>\n",
       "      <td>4449.46200</td>\n",
       "    </tr>\n",
       "    <tr>\n",
       "      <th>3</th>\n",
       "      <td>33</td>\n",
       "      <td>male</td>\n",
       "      <td>22.705</td>\n",
       "      <td>0</td>\n",
       "      <td>no</td>\n",
       "      <td>northwest</td>\n",
       "      <td>21984.47061</td>\n",
       "    </tr>\n",
       "    <tr>\n",
       "      <th>4</th>\n",
       "      <td>32</td>\n",
       "      <td>male</td>\n",
       "      <td>28.880</td>\n",
       "      <td>0</td>\n",
       "      <td>no</td>\n",
       "      <td>northwest</td>\n",
       "      <td>3866.85520</td>\n",
       "    </tr>\n",
       "  </tbody>\n",
       "</table>\n",
       "</div>"
      ],
      "text/plain": [
       "   age     sex     bmi  children smoker     region      charges\n",
       "0   19  female  27.900         0    yes  southwest  16884.92400\n",
       "1   18    male  33.770         1     no  southeast   1725.55230\n",
       "2   28    male  33.000         3     no  southeast   4449.46200\n",
       "3   33    male  22.705         0     no  northwest  21984.47061\n",
       "4   32    male  28.880         0     no  northwest   3866.85520"
      ]
     },
     "execution_count": 27,
     "metadata": {},
     "output_type": "execute_result"
    }
   ],
   "source": [
    "# read dataset into \"data\"\n",
    "data = pd.read_csv(\"./insurance.csv\")\n",
    "data.head()"
   ]
  },
  {
   "cell_type": "code",
   "execution_count": 28,
   "metadata": {},
   "outputs": [
    {
     "name": "stdout",
     "output_type": "stream",
     "text": [
      "<class 'pandas.core.frame.DataFrame'>\n",
      "RangeIndex: 1338 entries, 0 to 1337\n",
      "Data columns (total 7 columns):\n",
      " #   Column    Non-Null Count  Dtype  \n",
      "---  ------    --------------  -----  \n",
      " 0   age       1338 non-null   int64  \n",
      " 1   sex       1338 non-null   object \n",
      " 2   bmi       1338 non-null   float64\n",
      " 3   children  1338 non-null   int64  \n",
      " 4   smoker    1338 non-null   object \n",
      " 5   region    1338 non-null   object \n",
      " 6   charges   1338 non-null   float64\n",
      "dtypes: float64(2), int64(2), object(3)\n",
      "memory usage: 73.3+ KB\n"
     ]
    }
   ],
   "source": [
    "# check for nulls\n",
    "data.info()"
   ]
  },
  {
   "cell_type": "code",
   "execution_count": 29,
   "metadata": {},
   "outputs": [
    {
     "data": {
      "text/plain": [
       "age         0\n",
       "sex         0\n",
       "bmi         0\n",
       "children    0\n",
       "smoker      0\n",
       "region      0\n",
       "charges     0\n",
       "dtype: int64"
      ]
     },
     "execution_count": 29,
     "metadata": {},
     "output_type": "execute_result"
    }
   ],
   "source": [
    "data.isna().sum()"
   ]
  },
  {
   "cell_type": "code",
   "execution_count": 30,
   "metadata": {},
   "outputs": [
    {
     "name": "stdout",
     "output_type": "stream",
     "text": [
      "sex ['female' 'male']\n",
      "smoker ['yes' 'no']\n",
      "region ['southwest' 'southeast' 'northwest' 'northeast']\n"
     ]
    }
   ],
   "source": [
    "# keep checking for those nulls by looking for invalid unique values in non-int columns\n",
    "for name in data:\n",
    "    if data[name].dtype == 'object':\n",
    "        print(name, data[name].unique())\n",
    "# there are none, so there's no invalid or missing entries"
   ]
  },
  {
   "cell_type": "code",
   "execution_count": 31,
   "metadata": {},
   "outputs": [
    {
     "data": {
      "text/html": [
       "<div>\n",
       "<style scoped>\n",
       "    .dataframe tbody tr th:only-of-type {\n",
       "        vertical-align: middle;\n",
       "    }\n",
       "\n",
       "    .dataframe tbody tr th {\n",
       "        vertical-align: top;\n",
       "    }\n",
       "\n",
       "    .dataframe thead th {\n",
       "        text-align: right;\n",
       "    }\n",
       "</style>\n",
       "<table border=\"1\" class=\"dataframe\">\n",
       "  <thead>\n",
       "    <tr style=\"text-align: right;\">\n",
       "      <th></th>\n",
       "      <th>age</th>\n",
       "      <th>sex</th>\n",
       "      <th>bmi</th>\n",
       "      <th>children</th>\n",
       "      <th>smoker</th>\n",
       "      <th>region</th>\n",
       "      <th>charges</th>\n",
       "    </tr>\n",
       "  </thead>\n",
       "  <tbody>\n",
       "    <tr>\n",
       "      <th>0</th>\n",
       "      <td>19</td>\n",
       "      <td>female</td>\n",
       "      <td>27.900</td>\n",
       "      <td>0</td>\n",
       "      <td>yes</td>\n",
       "      <td>southwest</td>\n",
       "      <td>16884.92400</td>\n",
       "    </tr>\n",
       "    <tr>\n",
       "      <th>1</th>\n",
       "      <td>18</td>\n",
       "      <td>male</td>\n",
       "      <td>33.770</td>\n",
       "      <td>1</td>\n",
       "      <td>no</td>\n",
       "      <td>southeast</td>\n",
       "      <td>1725.55230</td>\n",
       "    </tr>\n",
       "    <tr>\n",
       "      <th>2</th>\n",
       "      <td>28</td>\n",
       "      <td>male</td>\n",
       "      <td>33.000</td>\n",
       "      <td>3</td>\n",
       "      <td>no</td>\n",
       "      <td>southeast</td>\n",
       "      <td>4449.46200</td>\n",
       "    </tr>\n",
       "    <tr>\n",
       "      <th>3</th>\n",
       "      <td>33</td>\n",
       "      <td>male</td>\n",
       "      <td>22.705</td>\n",
       "      <td>0</td>\n",
       "      <td>no</td>\n",
       "      <td>northwest</td>\n",
       "      <td>21984.47061</td>\n",
       "    </tr>\n",
       "    <tr>\n",
       "      <th>4</th>\n",
       "      <td>32</td>\n",
       "      <td>male</td>\n",
       "      <td>28.880</td>\n",
       "      <td>0</td>\n",
       "      <td>no</td>\n",
       "      <td>northwest</td>\n",
       "      <td>3866.85520</td>\n",
       "    </tr>\n",
       "    <tr>\n",
       "      <th>...</th>\n",
       "      <td>...</td>\n",
       "      <td>...</td>\n",
       "      <td>...</td>\n",
       "      <td>...</td>\n",
       "      <td>...</td>\n",
       "      <td>...</td>\n",
       "      <td>...</td>\n",
       "    </tr>\n",
       "    <tr>\n",
       "      <th>1333</th>\n",
       "      <td>50</td>\n",
       "      <td>male</td>\n",
       "      <td>30.970</td>\n",
       "      <td>3</td>\n",
       "      <td>no</td>\n",
       "      <td>northwest</td>\n",
       "      <td>10600.54830</td>\n",
       "    </tr>\n",
       "    <tr>\n",
       "      <th>1334</th>\n",
       "      <td>18</td>\n",
       "      <td>female</td>\n",
       "      <td>31.920</td>\n",
       "      <td>0</td>\n",
       "      <td>no</td>\n",
       "      <td>northeast</td>\n",
       "      <td>2205.98080</td>\n",
       "    </tr>\n",
       "    <tr>\n",
       "      <th>1335</th>\n",
       "      <td>18</td>\n",
       "      <td>female</td>\n",
       "      <td>36.850</td>\n",
       "      <td>0</td>\n",
       "      <td>no</td>\n",
       "      <td>southeast</td>\n",
       "      <td>1629.83350</td>\n",
       "    </tr>\n",
       "    <tr>\n",
       "      <th>1336</th>\n",
       "      <td>21</td>\n",
       "      <td>female</td>\n",
       "      <td>25.800</td>\n",
       "      <td>0</td>\n",
       "      <td>no</td>\n",
       "      <td>southwest</td>\n",
       "      <td>2007.94500</td>\n",
       "    </tr>\n",
       "    <tr>\n",
       "      <th>1337</th>\n",
       "      <td>61</td>\n",
       "      <td>female</td>\n",
       "      <td>29.070</td>\n",
       "      <td>0</td>\n",
       "      <td>yes</td>\n",
       "      <td>northwest</td>\n",
       "      <td>29141.36030</td>\n",
       "    </tr>\n",
       "  </tbody>\n",
       "</table>\n",
       "<p>1337 rows × 7 columns</p>\n",
       "</div>"
      ],
      "text/plain": [
       "      age     sex     bmi  children smoker     region      charges\n",
       "0      19  female  27.900         0    yes  southwest  16884.92400\n",
       "1      18    male  33.770         1     no  southeast   1725.55230\n",
       "2      28    male  33.000         3     no  southeast   4449.46200\n",
       "3      33    male  22.705         0     no  northwest  21984.47061\n",
       "4      32    male  28.880         0     no  northwest   3866.85520\n",
       "...   ...     ...     ...       ...    ...        ...          ...\n",
       "1333   50    male  30.970         3     no  northwest  10600.54830\n",
       "1334   18  female  31.920         0     no  northeast   2205.98080\n",
       "1335   18  female  36.850         0     no  southeast   1629.83350\n",
       "1336   21  female  25.800         0     no  southwest   2007.94500\n",
       "1337   61  female  29.070         0    yes  northwest  29141.36030\n",
       "\n",
       "[1337 rows x 7 columns]"
      ]
     },
     "execution_count": 31,
     "metadata": {},
     "output_type": "execute_result"
    }
   ],
   "source": [
    "# hunt for duplicates\n",
    "data.duplicated()\n",
    "data.drop_duplicates()"
   ]
  },
  {
   "cell_type": "code",
   "execution_count": 32,
   "metadata": {},
   "outputs": [
    {
     "name": "stdout",
     "output_type": "stream",
     "text": [
      "<class 'pandas.core.frame.DataFrame'>\n",
      "RangeIndex: 1338 entries, 0 to 1337\n",
      "Data columns (total 7 columns):\n",
      " #   Column    Non-Null Count  Dtype  \n",
      "---  ------    --------------  -----  \n",
      " 0   age       1338 non-null   int64  \n",
      " 1   sex       1338 non-null   object \n",
      " 2   bmi       1338 non-null   float64\n",
      " 3   children  1338 non-null   int64  \n",
      " 4   smoker    1338 non-null   object \n",
      " 5   region    1338 non-null   object \n",
      " 6   charges   1338 non-null   float64\n",
      "dtypes: float64(2), int64(2), object(3)\n",
      "memory usage: 73.3+ KB\n"
     ]
    }
   ],
   "source": [
    "# check data size & indexes after dropping duplicates if there are any, seems there wasn't\n",
    "data.info()"
   ]
  },
  {
   "cell_type": "code",
   "execution_count": 33,
   "metadata": {},
   "outputs": [
    {
     "name": "stdout",
     "output_type": "stream",
     "text": [
      "maximum non-outlier for age is 87.0\n",
      "minimum non-outlier for age is -9.0\n",
      "minimum non-outlier for age changed to 0.0\n",
      "data updated to remove outliers for age\n"
     ]
    }
   ],
   "source": [
    "# Hunt for outliers in 'age' using boxplot / IQR method\n",
    "q1 = data['age'].quantile(0.25)\n",
    "q3 = data['age'].quantile(0.75)\n",
    "iqr = q3 - q1\n",
    "min_val = q1 - (1.5 * iqr)\n",
    "max_val = q3 + (1.5 * iqr)\n",
    "print(\"maximum non-outlier for age is\", max_val)\n",
    "print(\"minimum non-outlier for age is\", min_val)\n",
    "# fix minimum to 0.0 because -9.0 doesn't make sense\n",
    "min_val = 0.0\n",
    "print(\"minimum non-outlier for age changed to\", min_val)\n",
    "\n",
    "# filter anything outside the outliers out of data\n",
    "outliers = data[(data['age'] < min_val) | (data['age'] > max_val)]\n",
    "data = data.drop(outliers.index)\n",
    "print(\"data updated to remove outliers for age\")"
   ]
  },
  {
   "cell_type": "code",
   "execution_count": 34,
   "metadata": {},
   "outputs": [
    {
     "name": "stdout",
     "output_type": "stream",
     "text": [
      "<class 'pandas.core.frame.DataFrame'>\n",
      "RangeIndex: 1338 entries, 0 to 1337\n",
      "Data columns (total 7 columns):\n",
      " #   Column    Non-Null Count  Dtype  \n",
      "---  ------    --------------  -----  \n",
      " 0   age       1338 non-null   int64  \n",
      " 1   sex       1338 non-null   object \n",
      " 2   bmi       1338 non-null   float64\n",
      " 3   children  1338 non-null   int64  \n",
      " 4   smoker    1338 non-null   object \n",
      " 5   region    1338 non-null   object \n",
      " 6   charges   1338 non-null   float64\n",
      "dtypes: float64(2), int64(2), object(3)\n",
      "memory usage: 73.3+ KB\n"
     ]
    }
   ],
   "source": [
    "# check data size & indexes after dropping rows with outlier ages\n",
    "# seems that there were no rows with outlier ages, which is correct given my glance through the csv\n",
    "data.info()"
   ]
  },
  {
   "cell_type": "code",
   "execution_count": 35,
   "metadata": {},
   "outputs": [
    {
     "name": "stdout",
     "output_type": "stream",
     "text": [
      "maximum non-outlier for bmi is 47.290000000000006\n",
      "minimum non-outlier for bmi is 13.7\n",
      "data updated to remove outliers for bmi\n"
     ]
    }
   ],
   "source": [
    "# Hunt for outliers in 'bmi' using boxplot / IQR method\n",
    "q1 = data['bmi'].quantile(0.25)\n",
    "q3 = data['bmi'].quantile(0.75)\n",
    "iqr = q3 - q1\n",
    "min_val = q1 - (1.5 * iqr)\n",
    "max_val = q3 + (1.5 * iqr)\n",
    "print(\"maximum non-outlier for bmi is\", max_val)\n",
    "print(\"minimum non-outlier for bmi is\", min_val)\n",
    "\n",
    "# filter anything outside the outliers out of data\n",
    "outliers = data[(data['bmi'] < min_val) | (data['bmi'] > max_val)]\n",
    "data = data.drop(outliers.index)\n",
    "print(\"data updated to remove outliers for bmi\")"
   ]
  },
  {
   "cell_type": "code",
   "execution_count": 36,
   "metadata": {},
   "outputs": [
    {
     "name": "stdout",
     "output_type": "stream",
     "text": [
      "<class 'pandas.core.frame.DataFrame'>\n",
      "Index: 1329 entries, 0 to 1337\n",
      "Data columns (total 7 columns):\n",
      " #   Column    Non-Null Count  Dtype  \n",
      "---  ------    --------------  -----  \n",
      " 0   age       1329 non-null   int64  \n",
      " 1   sex       1329 non-null   object \n",
      " 2   bmi       1329 non-null   float64\n",
      " 3   children  1329 non-null   int64  \n",
      " 4   smoker    1329 non-null   object \n",
      " 5   region    1329 non-null   object \n",
      " 6   charges   1329 non-null   float64\n",
      "dtypes: float64(2), int64(2), object(3)\n",
      "memory usage: 83.1+ KB\n"
     ]
    }
   ],
   "source": [
    "# check data size & indexes after dropping rows with outlier bmis\n",
    "# seems only 8 rows had outlier bmis; sensical, but how to prevent hollow indexes here, I don't know\n",
    "data.info()"
   ]
  },
  {
   "cell_type": "code",
   "execution_count": 37,
   "metadata": {},
   "outputs": [
    {
     "name": "stdout",
     "output_type": "stream",
     "text": [
      "maximum non-outlier for children is 5.0\n",
      "minimum non-outlier for children is -3.0\n",
      "minimum non-outlier for children changed to 0.0\n",
      "data updated to remove outliers for children\n"
     ]
    }
   ],
   "source": [
    "# Hunt for outliers in 'children' using boxplot / IQR method\n",
    "q1 = data['children'].quantile(0.25)\n",
    "q3 = data['children'].quantile(0.75)\n",
    "iqr = q3 - q1\n",
    "min_val = q1 - (1.5 * iqr)\n",
    "max_val = q3 + (1.5 * iqr)\n",
    "print(\"maximum non-outlier for children is\", max_val)\n",
    "print(\"minimum non-outlier for children is\", min_val)\n",
    "# fix minimum to 0.0 because -3.0 doesn't make sense\n",
    "min_val = 0.0\n",
    "print(\"minimum non-outlier for children changed to\", min_val)\n",
    "\n",
    "# filter anything outside the outliers out of data\n",
    "outliers = data[(data['children'] < min_val) | (data['children'] > max_val)]\n",
    "data = data.drop(outliers.index)\n",
    "print(\"data updated to remove outliers for children\")"
   ]
  },
  {
   "cell_type": "code",
   "execution_count": 38,
   "metadata": {},
   "outputs": [
    {
     "name": "stdout",
     "output_type": "stream",
     "text": [
      "<class 'pandas.core.frame.DataFrame'>\n",
      "Index: 1329 entries, 0 to 1337\n",
      "Data columns (total 7 columns):\n",
      " #   Column    Non-Null Count  Dtype  \n",
      "---  ------    --------------  -----  \n",
      " 0   age       1329 non-null   int64  \n",
      " 1   sex       1329 non-null   object \n",
      " 2   bmi       1329 non-null   float64\n",
      " 3   children  1329 non-null   int64  \n",
      " 4   smoker    1329 non-null   object \n",
      " 5   region    1329 non-null   object \n",
      " 6   charges   1329 non-null   float64\n",
      "dtypes: float64(2), int64(2), object(3)\n",
      "memory usage: 83.1+ KB\n"
     ]
    }
   ],
   "source": [
    "# check data size & indexes after dropping rows with outlier children\n",
    "# seems correct\n",
    "data.info()"
   ]
  },
  {
   "cell_type": "code",
   "execution_count": 39,
   "metadata": {},
   "outputs": [
    {
     "name": "stdout",
     "output_type": "stream",
     "text": [
      "<class 'pandas.core.frame.DataFrame'>\n",
      "Index: 1329 entries, 0 to 1337\n",
      "Data columns (total 7 columns):\n",
      " #   Column    Non-Null Count  Dtype  \n",
      "---  ------    --------------  -----  \n",
      " 0   age       1329 non-null   int64  \n",
      " 1   sex       1329 non-null   object \n",
      " 2   bmi       1329 non-null   float64\n",
      " 3   children  1329 non-null   int64  \n",
      " 4   smoker    1329 non-null   object \n",
      " 5   region    1329 non-null   object \n",
      " 6   charges   1329 non-null   float64\n",
      "dtypes: float64(2), int64(2), object(3)\n",
      "memory usage: 83.1+ KB\n"
     ]
    }
   ],
   "source": [
    "# with all outliers dropped, drop null index values in the dataset just to be sure\n",
    "# but before that, I ran this with only data.info() to check the size & indexes of the data after \n",
    "# dropping outliers for children, and it seems correct\n",
    "data.dropna(axis=0, how='any', inplace=True)\n",
    "data.info()"
   ]
  },
  {
   "cell_type": "code",
   "execution_count": 40,
   "metadata": {},
   "outputs": [
    {
     "name": "stdout",
     "output_type": "stream",
     "text": [
      "<class 'pandas.core.frame.DataFrame'>\n",
      "Index: 1329 entries, 0 to 1337\n",
      "Data columns (total 10 columns):\n",
      " #   Column            Non-Null Count  Dtype  \n",
      "---  ------            --------------  -----  \n",
      " 0   age               1329 non-null   int64  \n",
      " 1   sex               1329 non-null   object \n",
      " 2   bmi               1329 non-null   float64\n",
      " 3   children          1329 non-null   int64  \n",
      " 4   smoker            1329 non-null   object \n",
      " 5   charges           1329 non-null   float64\n",
      " 6   region_northeast  1329 non-null   int64  \n",
      " 7   region_northwest  1329 non-null   int64  \n",
      " 8   region_southeast  1329 non-null   int64  \n",
      " 9   region_southwest  1329 non-null   int64  \n",
      "dtypes: float64(2), int64(6), object(2)\n",
      "memory usage: 114.2+ KB\n"
     ]
    }
   ],
   "source": [
    "# encode non-numeric regional data using get_dummies\n",
    "data = pd.get_dummies(data, columns=['region'], dtype=int)\n",
    "data.info()"
   ]
  },
  {
   "cell_type": "code",
   "execution_count": 41,
   "metadata": {},
   "outputs": [
    {
     "name": "stdout",
     "output_type": "stream",
     "text": [
      "<class 'pandas.core.frame.DataFrame'>\n",
      "Index: 1329 entries, 0 to 1337\n",
      "Data columns (total 11 columns):\n",
      " #   Column            Non-Null Count  Dtype  \n",
      "---  ------            --------------  -----  \n",
      " 0   age               1329 non-null   int64  \n",
      " 1   bmi               1329 non-null   float64\n",
      " 2   children          1329 non-null   int64  \n",
      " 3   smoker            1329 non-null   object \n",
      " 4   charges           1329 non-null   float64\n",
      " 5   region_northeast  1329 non-null   int64  \n",
      " 6   region_northwest  1329 non-null   int64  \n",
      " 7   region_southeast  1329 non-null   int64  \n",
      " 8   region_southwest  1329 non-null   int64  \n",
      " 9   sex_female        1329 non-null   int64  \n",
      " 10  sex_male          1329 non-null   int64  \n",
      "dtypes: float64(2), int64(8), object(1)\n",
      "memory usage: 124.6+ KB\n"
     ]
    }
   ],
   "source": [
    "# encode non-numeric biological sex data using get_dummies\n",
    "data = pd.get_dummies(data, columns=['sex'], prefix='sex', dtype=int)\n",
    "data.info()"
   ]
  },
  {
   "cell_type": "code",
   "execution_count": 42,
   "metadata": {},
   "outputs": [
    {
     "name": "stdout",
     "output_type": "stream",
     "text": [
      "<class 'pandas.core.frame.DataFrame'>\n",
      "Index: 1329 entries, 0 to 1337\n",
      "Data columns (total 11 columns):\n",
      " #   Column            Non-Null Count  Dtype  \n",
      "---  ------            --------------  -----  \n",
      " 0   age               1329 non-null   int64  \n",
      " 1   bmi               1329 non-null   float64\n",
      " 2   children          1329 non-null   int64  \n",
      " 3   smoker            1329 non-null   int64  \n",
      " 4   charges           1329 non-null   float64\n",
      " 5   region_northeast  1329 non-null   int64  \n",
      " 6   region_northwest  1329 non-null   int64  \n",
      " 7   region_southeast  1329 non-null   int64  \n",
      " 8   region_southwest  1329 non-null   int64  \n",
      " 9   sex_female        1329 non-null   int64  \n",
      " 10  sex_male          1329 non-null   int64  \n",
      "dtypes: float64(2), int64(9)\n",
      "memory usage: 124.6 KB\n"
     ]
    }
   ],
   "source": [
    "# use mapping to encode non-numeric smoker data\n",
    "category = {'yes': 1, 'no': 0}\n",
    "data['smoker'] = data['smoker'].map(category)\n",
    "data.info()"
   ]
  },
  {
   "cell_type": "code",
   "execution_count": 43,
   "metadata": {},
   "outputs": [
    {
     "data": {
      "text/html": [
       "<div>\n",
       "<style scoped>\n",
       "    .dataframe tbody tr th:only-of-type {\n",
       "        vertical-align: middle;\n",
       "    }\n",
       "\n",
       "    .dataframe tbody tr th {\n",
       "        vertical-align: top;\n",
       "    }\n",
       "\n",
       "    .dataframe thead th {\n",
       "        text-align: right;\n",
       "    }\n",
       "</style>\n",
       "<table border=\"1\" class=\"dataframe\">\n",
       "  <thead>\n",
       "    <tr style=\"text-align: right;\">\n",
       "      <th></th>\n",
       "      <th>age</th>\n",
       "      <th>bmi</th>\n",
       "      <th>children</th>\n",
       "      <th>smoker</th>\n",
       "      <th>charges</th>\n",
       "      <th>region_northeast</th>\n",
       "      <th>region_northwest</th>\n",
       "      <th>region_southeast</th>\n",
       "      <th>region_southwest</th>\n",
       "      <th>sex_female</th>\n",
       "      <th>sex_male</th>\n",
       "    </tr>\n",
       "  </thead>\n",
       "  <tbody>\n",
       "    <tr>\n",
       "      <th>0</th>\n",
       "      <td>0.296875</td>\n",
       "      <td>0.596791</td>\n",
       "      <td>0.0</td>\n",
       "      <td>1</td>\n",
       "      <td>16884.92400</td>\n",
       "      <td>0</td>\n",
       "      <td>0</td>\n",
       "      <td>0</td>\n",
       "      <td>1</td>\n",
       "      <td>1</td>\n",
       "      <td>0</td>\n",
       "    </tr>\n",
       "    <tr>\n",
       "      <th>1</th>\n",
       "      <td>0.281250</td>\n",
       "      <td>0.722353</td>\n",
       "      <td>0.2</td>\n",
       "      <td>0</td>\n",
       "      <td>1725.55230</td>\n",
       "      <td>0</td>\n",
       "      <td>0</td>\n",
       "      <td>1</td>\n",
       "      <td>0</td>\n",
       "      <td>0</td>\n",
       "      <td>1</td>\n",
       "    </tr>\n",
       "    <tr>\n",
       "      <th>2</th>\n",
       "      <td>0.437500</td>\n",
       "      <td>0.705882</td>\n",
       "      <td>0.6</td>\n",
       "      <td>0</td>\n",
       "      <td>4449.46200</td>\n",
       "      <td>0</td>\n",
       "      <td>0</td>\n",
       "      <td>1</td>\n",
       "      <td>0</td>\n",
       "      <td>0</td>\n",
       "      <td>1</td>\n",
       "    </tr>\n",
       "    <tr>\n",
       "      <th>3</th>\n",
       "      <td>0.515625</td>\n",
       "      <td>0.485668</td>\n",
       "      <td>0.0</td>\n",
       "      <td>0</td>\n",
       "      <td>21984.47061</td>\n",
       "      <td>0</td>\n",
       "      <td>1</td>\n",
       "      <td>0</td>\n",
       "      <td>0</td>\n",
       "      <td>0</td>\n",
       "      <td>1</td>\n",
       "    </tr>\n",
       "    <tr>\n",
       "      <th>4</th>\n",
       "      <td>0.500000</td>\n",
       "      <td>0.617754</td>\n",
       "      <td>0.0</td>\n",
       "      <td>0</td>\n",
       "      <td>3866.85520</td>\n",
       "      <td>0</td>\n",
       "      <td>1</td>\n",
       "      <td>0</td>\n",
       "      <td>0</td>\n",
       "      <td>0</td>\n",
       "      <td>1</td>\n",
       "    </tr>\n",
       "  </tbody>\n",
       "</table>\n",
       "</div>"
      ],
      "text/plain": [
       "        age       bmi  children  smoker      charges  region_northeast  \\\n",
       "0  0.296875  0.596791       0.0       1  16884.92400                 0   \n",
       "1  0.281250  0.722353       0.2       0   1725.55230                 0   \n",
       "2  0.437500  0.705882       0.6       0   4449.46200                 0   \n",
       "3  0.515625  0.485668       0.0       0  21984.47061                 0   \n",
       "4  0.500000  0.617754       0.0       0   3866.85520                 0   \n",
       "\n",
       "   region_northwest  region_southeast  region_southwest  sex_female  sex_male  \n",
       "0                 0                 0                 1           1         0  \n",
       "1                 0                 1                 0           0         1  \n",
       "2                 0                 1                 0           0         1  \n",
       "3                 1                 0                 0           0         1  \n",
       "4                 1                 0                 0           0         1  "
      ]
     },
     "execution_count": 43,
     "metadata": {},
     "output_type": "execute_result"
    }
   ],
   "source": [
    "# scale data for age column\n",
    "max_val = data['age'].max()\n",
    "data['age'] = data['age'] / max_val\n",
    "# scale data for bmi column\n",
    "max_val = data['bmi'].max()\n",
    "data['bmi'] = data['bmi'] / max_val\n",
    "# scale data for children column\n",
    "max_val = data['children'].max()\n",
    "data['children'] = data['children'] / max_val\n",
    "\n",
    "# show first 5 entries of data again\n",
    "data.head()"
   ]
  },
  {
   "cell_type": "code",
   "execution_count": 44,
   "metadata": {},
   "outputs": [
    {
     "name": "stdout",
     "output_type": "stream",
     "text": [
      "<class 'pandas.core.frame.DataFrame'>\n",
      "Index: 1329 entries, 0 to 1337\n",
      "Data columns (total 11 columns):\n",
      " #   Column            Non-Null Count  Dtype  \n",
      "---  ------            --------------  -----  \n",
      " 0   age               1329 non-null   float64\n",
      " 1   bmi               1329 non-null   float64\n",
      " 2   children          1329 non-null   float64\n",
      " 3   smoker            1329 non-null   int64  \n",
      " 4   charges           1329 non-null   float64\n",
      " 5   region_northeast  1329 non-null   int64  \n",
      " 6   region_northwest  1329 non-null   int64  \n",
      " 7   region_southeast  1329 non-null   int64  \n",
      " 8   region_southwest  1329 non-null   int64  \n",
      " 9   sex_female        1329 non-null   int64  \n",
      " 10  sex_male          1329 non-null   int64  \n",
      "dtypes: float64(4), int64(7)\n",
      "memory usage: 124.6 KB\n"
     ]
    }
   ],
   "source": [
    "# now that everything is organized, scaled & checked, check indexes and entries one final time\n",
    "data.info()"
   ]
  },
  {
   "cell_type": "code",
   "execution_count": 45,
   "metadata": {},
   "outputs": [],
   "source": [
    "# define dependent and independent variables\n",
    "X = data.drop(columns=['charges'])\n",
    "y = data['charges']"
   ]
  },
  {
   "cell_type": "code",
   "execution_count": 46,
   "metadata": {},
   "outputs": [
    {
     "name": "stdout",
     "output_type": "stream",
     "text": [
      "sum of train error = 5998.692529979803 sum of test error = 6002.208542219112\n"
     ]
    }
   ],
   "source": [
    "# try linear regression on the data\n",
    "from sklearn.model_selection import train_test_split\n",
    "from sklearn.linear_model import LinearRegression\n",
    "from sklearn.metrics import mean_squared_error\n",
    "\n",
    "sum_test_error = 0\n",
    "sum_train_error = 0\n",
    "epochs = 100\n",
    "for k in range(epochs):\n",
    "    \n",
    "    X_train, X_test, y_train, y_test = train_test_split(X, y, test_size = 0.2)\n",
    "    linReg = LinearRegression()\n",
    "    linReg.fit(X_train, y_train)\n",
    "\n",
    "    y_pred = linReg.predict(X_train)\n",
    "    error = mean_squared_error(y_train, y_pred)\n",
    "    error = error**0.5\n",
    "    sum_train_error += error\n",
    "\n",
    "    y_pred = linReg.predict(X_test)\n",
    "    error = mean_squared_error(y_test, y_pred)\n",
    "    error = error**0.5\n",
    "    sum_test_error += error\n",
    "print(\"sum of train error =\", (sum_train_error / epochs), \"sum of test error =\", (sum_test_error / epochs))"
   ]
  },
  {
   "cell_type": "code",
   "execution_count": 57,
   "metadata": {},
   "outputs": [
    {
     "name": "stdout",
     "output_type": "stream",
     "text": [
      "sum of train error = 4516.731704111608 sum of test error = 5015.721470845017\n"
     ]
    }
   ],
   "source": [
    "# didn't work, try polynomial regression\n",
    "from sklearn.preprocessing import PolynomialFeatures\n",
    "from sklearn.linear_model import LinearRegression\n",
    "from sklearn.model_selection import train_test_split\n",
    "from sklearn.metrics import mean_squared_error\n",
    "\n",
    "sum_test_error = 0\n",
    "sum_train_error = 0\n",
    "polyf = PolynomialFeatures(degree = 3, include_bias = False)\n",
    "regModel = LinearRegression()\n",
    "epochs = 100\n",
    "for k in range(epochs):\n",
    "\n",
    "    X_train, X_test, y_train, y_test = train_test_split(X, y, test_size = 0.2)\n",
    "    X_train_poly = polyf.fit_transform(X_train)\n",
    "    X_test_poly = polyf.fit_transform(X_test)\n",
    "    regModel.fit(X_train_poly, y_train)\n",
    "    \n",
    "    y_pred = regModel.predict(X_train_poly)\n",
    "    error = mean_squared_error(y_train, y_pred)\n",
    "    error = error ** 0.5\n",
    "    sum_train_error += error\n",
    "\n",
    "    y_pred = regModel.predict(X_test_poly)\n",
    "    error = mean_squared_error(y_test, y_pred)\n",
    "    error = error ** 0.5\n",
    "    sum_test_error += error\n",
    "print(\"sum of train error =\", (sum_train_error / epochs), \"sum of test error =\", (sum_test_error / epochs))"
   ]
  },
  {
   "cell_type": "code",
   "execution_count": 58,
   "metadata": {},
   "outputs": [
    {
     "name": "stdout",
     "output_type": "stream",
     "text": [
      "sum of train error = 2086.2935336051896 sum of test error = 4880.912645249479\n"
     ]
    }
   ],
   "source": [
    "# didn't work, try random forest\n",
    "from sklearn.model_selection import train_test_split\n",
    "from sklearn.ensemble import RandomForestRegressor\n",
    "from sklearn.metrics import mean_squared_error\n",
    "\n",
    "X_train, X_test, y_train, y_test = train_test_split(X, y, test_size = 0.2, random_state = 42)\n",
    "sum_train_error = 0\n",
    "sum_test_error = 0\n",
    "\n",
    "for k in range(5, 20):\n",
    "    rf = RandomForestRegressor(n_estimators = 200, max_depth = 10, max_features = k)\n",
    "    rf.fit(X_train, y_train)\n",
    "\n",
    "    y_pred = rf.predict(X_train)\n",
    "    error = mean_squared_error(y_train, y_pred)\n",
    "    error = error ** 0.5\n",
    "    sum_train_error += error\n",
    "\n",
    "    y_pred = rf.predict(X_test)\n",
    "    error = mean_squared_error(y_test, y_pred)\n",
    "    error = error ** 0.5\n",
    "    sum_test_error += error\n",
    "print(\"sum of train error =\", (sum_train_error / 15), \"sum of test error =\", (sum_test_error / 15))"
   ]
  }
 ],
 "metadata": {
  "kernelspec": {
   "display_name": "Python 3",
   "language": "python",
   "name": "python3"
  },
  "language_info": {
   "codemirror_mode": {
    "name": "ipython",
    "version": 3
   },
   "file_extension": ".py",
   "mimetype": "text/x-python",
   "name": "python",
   "nbconvert_exporter": "python",
   "pygments_lexer": "ipython3",
   "version": "3.13.1"
  }
 },
 "nbformat": 4,
 "nbformat_minor": 2
}
